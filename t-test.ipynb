{
 "cells": [
  {
   "cell_type": "markdown",
   "metadata": {},
   "source": [
    "# t - test  \n",
    "\n",
    "https://towardsdatascience.com/inferential-statistics-series-t-test-using-numpy-2718f8f9bf2f"
   ]
  },
  {
   "cell_type": "code",
   "execution_count": 1,
   "metadata": {},
   "outputs": [],
   "source": [
    "## Import the packages\n",
    "import numpy as np\n",
    "from scipy import stats\n"
   ]
  },
  {
   "cell_type": "code",
   "execution_count": 2,
   "metadata": {},
   "outputs": [],
   "source": [
    "## Define 2 random distributions\n",
    "#Sample Size\n",
    "N = 10\n",
    "#Gaussian distributed data with mean = 2 and var = 1\n",
    "a = np.random.randn(N) + 2\n",
    "#Gaussian distributed data with with mean = 0 and var = 1\n",
    "b = np.random.randn(N)"
   ]
  },
  {
   "cell_type": "code",
   "execution_count": 3,
   "metadata": {},
   "outputs": [
    {
     "data": {
      "text/plain": [
       "array([3.23270109, 1.58013374, 2.91318064, 2.87583854, 1.07274158,\n",
       "       0.91264471, 1.86448672, 1.85551411, 2.22369585, 3.0201823 ])"
      ]
     },
     "execution_count": 3,
     "metadata": {},
     "output_type": "execute_result"
    }
   ],
   "source": [
    "a"
   ]
  },
  {
   "cell_type": "code",
   "execution_count": 4,
   "metadata": {},
   "outputs": [
    {
     "data": {
      "text/plain": [
       "array([ 1.89122641,  0.9979508 , -0.05035885,  0.28095164,  2.26805056,\n",
       "        2.56671897, -0.24340951,  0.45284402, -0.10297679, -0.18943851])"
      ]
     },
     "execution_count": 4,
     "metadata": {},
     "output_type": "execute_result"
    }
   ],
   "source": [
    "b"
   ]
  },
  {
   "cell_type": "code",
   "execution_count": 5,
   "metadata": {},
   "outputs": [
    {
     "data": {
      "text/plain": [
       "0.9640571671363499"
      ]
     },
     "execution_count": 5,
     "metadata": {},
     "output_type": "execute_result"
    }
   ],
   "source": [
    "## Calculate the Standard Deviation\n",
    "#Рассчитаем дисперсию, чтобы получить стандартное отклонение\n",
    "\n",
    "#For unbiased max likelihood estimate we have to divide the var by N-1, and therefore the parameter ddof = 1\n",
    "#(Для несмещенной оценки максимального правдоподобия мы должны разделить переменную на N-1, и, следовательно, параметр ddof = 1)\n",
    "var_a = a.var(ddof=1)\n",
    "var_b = b.var(ddof=1)\n",
    "\n",
    "#std deviation\n",
    "s = np.sqrt((var_a + var_b)/2)\n",
    "s"
   ]
  },
  {
   "cell_type": "code",
   "execution_count": 7,
   "metadata": {},
   "outputs": [],
   "source": [
    "## Calculate the t-statistics\n",
    "t = (a.mean() - b.mean())/(s*np.sqrt(2/N))\n"
   ]
  },
  {
   "cell_type": "code",
   "execution_count": 8,
   "metadata": {},
   "outputs": [
    {
     "name": "stdout",
     "output_type": "stream",
     "text": [
      "t = 3.172885210013273\n",
      "p = 0.005267082948737123\n"
     ]
    }
   ],
   "source": [
    "## Compare with the critical t-value\n",
    "#Degrees of freedom\n",
    "df = 2*N - 2\n",
    "\n",
    "#p-value after comparison with the t \n",
    "p = 1 - stats.t.cdf(t,df=df)\n",
    "\n",
    "\n",
    "print(\"t = \" + str(t))\n",
    "print(\"p = \" + str(2*p))\n",
    "### You can see that after comparing the t statistic with the critical t value (computed internally) we get a good p value of 0.0005 and thus we reject the null hypothesis and thus it proves that the mean of the two distributions are different and statistically significant.\n"
   ]
  },
  {
   "cell_type": "code",
   "execution_count": 9,
   "metadata": {},
   "outputs": [
    {
     "name": "stdout",
     "output_type": "stream",
     "text": [
      "t = 3.172885210013273\n",
      "p = 0.005267082948737136\n"
     ]
    }
   ],
   "source": [
    "## Cross Checking with the internal scipy function\n",
    "t2, p2 = stats.ttest_ind(a,b)\n",
    "print(\"t = \" + str(t2))\n",
    "print(\"p = \" + str(p2))"
   ]
  },
  {
   "cell_type": "markdown",
   "metadata": {},
   "source": [
    "# Calculating an Independent Samples T Test By hand   \n",
    "https://www.statisticshowto.com/independent-samples-t-test/"
   ]
  },
  {
   "cell_type": "markdown",
   "metadata": {},
   "source": [
    "Sample question: Calculate an independent samples t test for the following data sets:  \n",
    "Data set A: 1,2,2,3,3,4,4,5,5,6   \n",
    "Data set B: 1,2,4,5,5,5,6,6,7,9   "
   ]
  },
  {
   "cell_type": "code",
   "execution_count": 10,
   "metadata": {},
   "outputs": [],
   "source": [
    "a = [1,2,2,3,3,4,4,5,5,6]\n",
    "b = [1,2,4,5,5,5,6,6,7,9]"
   ]
  },
  {
   "cell_type": "code",
   "execution_count": 11,
   "metadata": {},
   "outputs": [],
   "source": [
    "#Step 1: Sum the two groups:\n",
    "sum_a =  1 + 2 + 2 + 3 + 3 + 4 + 4 + 5 + 5 + 6 \n",
    "sum_b =  1 + 2 + 4 + 5 + 5 + 5 + 6 + 6 + 7 + 9"
   ]
  },
  {
   "cell_type": "code",
   "execution_count": 12,
   "metadata": {},
   "outputs": [
    {
     "name": "stdout",
     "output_type": "stream",
     "text": [
      "35\n",
      "50\n"
     ]
    }
   ],
   "source": [
    "print(sum_a)\n",
    "print(sum_b)"
   ]
  },
  {
   "cell_type": "code",
   "execution_count": 13,
   "metadata": {},
   "outputs": [],
   "source": [
    "#Step 2: Square the sums from Step 1:\n",
    "sq_a = 35**2\n",
    "sq_b = 49**2\n",
    "#Set these numbers aside for a moment."
   ]
  },
  {
   "cell_type": "code",
   "execution_count": 14,
   "metadata": {},
   "outputs": [
    {
     "name": "stdout",
     "output_type": "stream",
     "text": [
      "1225\n",
      "2401\n"
     ]
    }
   ],
   "source": [
    "print(sq_a)\n",
    "print(sq_b)"
   ]
  },
  {
   "cell_type": "code",
   "execution_count": 15,
   "metadata": {},
   "outputs": [],
   "source": [
    "#Step 3: Calculate the means for the two groups:\n",
    "mean_a = (1 + 2 + 2 + 3 + 3 + 4 + 4 + 5 + 5 + 6)/10\n",
    "mean_b = (1 + 2 + 4 + 5 + 5 + 5 + 6 + 6 + 7 + 9)/10"
   ]
  },
  {
   "cell_type": "code",
   "execution_count": 16,
   "metadata": {},
   "outputs": [
    {
     "name": "stdout",
     "output_type": "stream",
     "text": [
      "3.5\n",
      "5.0\n"
     ]
    }
   ],
   "source": [
    "print(mean_a)\n",
    "print(mean_b)"
   ]
  },
  {
   "cell_type": "code",
   "execution_count": 20,
   "metadata": {},
   "outputs": [],
   "source": [
    "#Step 4: Square the individual scores and then add them up:\n",
    "sq_a_ind = 1**1 + 2**2 + 2**2 + 3**2 + 3**2 + 4**2 + 4**2 + 5**2 + 5**2 + 6**2 \n",
    "sq_b_ind = 1**2 + 2**2 + 4**2 + 5**2 + 5**2 + 5**2 + 6**2 + 6**2 + 7**2 + 9**2 \n",
    "#Set these numbers aside for a moment."
   ]
  },
  {
   "cell_type": "code",
   "execution_count": 21,
   "metadata": {},
   "outputs": [
    {
     "name": "stdout",
     "output_type": "stream",
     "text": [
      "145\n",
      "298\n"
     ]
    }
   ],
   "source": [
    "print(sq_a_ind)\n",
    "print(sq_b_ind)"
   ]
  },
  {
   "cell_type": "code",
   "execution_count": 23,
   "metadata": {},
   "outputs": [],
   "source": [
    "#Step 5 \n",
    "t = (3.5 - 5)/np.sqrt((((sq_a_ind - sq_a/10)+(sq_b_ind - sq_b/10))/18)*(1/10+1/10))"
   ]
  },
  {
   "cell_type": "code",
   "execution_count": 24,
   "metadata": {},
   "outputs": [
    {
     "data": {
      "text/plain": [
       "-1.587027635681846"
      ]
     },
     "execution_count": 24,
     "metadata": {},
     "output_type": "execute_result"
    }
   ],
   "source": [
    "t"
   ]
  },
  {
   "cell_type": "code",
   "execution_count": 25,
   "metadata": {},
   "outputs": [],
   "source": [
    "#Step 6 Find the Degrees of freedom \n",
    "df = (10-1 + 10-1)"
   ]
  },
  {
   "cell_type": "code",
   "execution_count": 26,
   "metadata": {},
   "outputs": [
    {
     "name": "stdout",
     "output_type": "stream",
     "text": [
      "18\n"
     ]
    }
   ],
   "source": [
    "print(df)"
   ]
  },
  {
   "cell_type": "markdown",
   "metadata": {},
   "source": [
    "Look up your degrees of freedom (Step 6) in the t-table. If you don’t know what your alpha level is, use 5% (0.05).\n",
    "18 degrees of freedom at an alpha level of 0.05 = 2.10."
   ]
  },
  {
   "cell_type": "markdown",
   "metadata": {},
   "source": [
    "Compare your calculated value (Step 5) to your table value (Step 7). The calculated value of -1.79 is less than the cutoff of 2.10 from the table. Therefore p > .05. As the p-value is greater than the alpha level, we cannot conclude that there is a difference between means"
   ]
  },
  {
   "cell_type": "markdown",
   "metadata": {},
   "source": [
    "Сравните рассчитанное значение (шаг 5) с табличным значением (шаг 7). Расчетное значение -1,79 меньше, чем срез 2,10 из таблицы. Следовательно, р> 0,05. Поскольку значение р больше, чем альфа-уровень, мы не можем сделать вывод, что существует разница между средними"
   ]
  },
  {
   "cell_type": "markdown",
   "metadata": {},
   "source": [
    "# What is a Paired T Test (Paired Samples T Test / Dependent Samples T Test)?  \n",
    "https://www.statisticshowto.com/probability-and-statistics/t-test/#PairedTTest"
   ]
  },
  {
   "cell_type": "markdown",
   "metadata": {},
   "source": [
    "A paired t test (also called a correlated pairs t-test, a paired samples t test or dependent samples t test) is where you run a t test on dependent samples. Dependent samples are essentially connected — they are tests on the same person or thing. For example:   \n",
    "\n",
    "- Knee MRI costs at two different hospitals,\n",
    "- Two tests on the same person before and after training,\n",
    "- Two blood pressure measurements on the same person using different equipment."
   ]
  },
  {
   "cell_type": "code",
   "execution_count": 39,
   "metadata": {},
   "outputs": [
    {
     "data": {
      "text/plain": [
       "[-17, -10, -10, -8, -14, -16, -6, -1, -2, 9, 2]"
      ]
     },
     "execution_count": 39,
     "metadata": {},
     "output_type": "execute_result"
    }
   ],
   "source": [
    "#Sample question: Calculate a paired t test by hand for the following data:\n",
    "a = [3, 3, 3, 12, 15, 16, 17, 19, 23, 24, 32]\n",
    "b = [20, 13, 13, 20, 29, 32, 23, 20, 25, 15, 30]\n",
    "\n",
    "#Step 1: Subtract each Y score from each X score.\n",
    "diff = np.array(a) - np.array(b)\n",
    "diff = list(diff)\n",
    "diff"
   ]
  },
  {
   "cell_type": "code",
   "execution_count": 40,
   "metadata": {},
   "outputs": [
    {
     "data": {
      "text/plain": [
       "-73"
      ]
     },
     "execution_count": 40,
     "metadata": {},
     "output_type": "execute_result"
    }
   ],
   "source": [
    "#Step 2: Add up all of the values from Step 1. Set this number aside for a moment.\n",
    "sum_ab = sum(diff)\n",
    "sum_ab"
   ]
  },
  {
   "cell_type": "code",
   "execution_count": 41,
   "metadata": {},
   "outputs": [
    {
     "data": {
      "text/plain": [
       "[289, 100, 100, 64, 196, 256, 36, 1, 4, 81, 4]"
      ]
     },
     "execution_count": 41,
     "metadata": {},
     "output_type": "execute_result"
    }
   ],
   "source": [
    "#Step 3: Square the differences from Step 1.\n",
    "sq_diff = [i**2 for i in diff]  \n",
    "sq_diff"
   ]
  },
  {
   "cell_type": "code",
   "execution_count": 42,
   "metadata": {},
   "outputs": [
    {
     "data": {
      "text/plain": [
       "1131"
      ]
     },
     "execution_count": 42,
     "metadata": {},
     "output_type": "execute_result"
    }
   ],
   "source": [
    "#Step 4: Add up all of the squared differences from Step 3\n",
    "sum_sq = sum(sq_diff)\n",
    "sum_sq"
   ]
  },
  {
   "cell_type": "code",
   "execution_count": 43,
   "metadata": {},
   "outputs": [
    {
     "data": {
      "text/plain": [
       "-2.846030934916851"
      ]
     },
     "execution_count": 43,
     "metadata": {},
     "output_type": "execute_result"
    }
   ],
   "source": [
    "t = (sum_ab/11)/(np.sqrt((sum_sq - (sum_ab**2/10))/110))\n",
    "t"
   ]
  },
  {
   "cell_type": "code",
   "execution_count": 44,
   "metadata": {},
   "outputs": [],
   "source": [
    "#Step 6: Subtract 1 from the sample size to get the degrees of freedom. We have 11 items, so 11-1 = 10.\n",
    "#Step 7: Find the p-value in the t-table, using the degrees of freedom in Step 6.\n",
    "#If you don’t have a specified alpha level, use 0.05 (5%). For this sample problem, with df=10, \n",
    "#the t-value is 2.228.\n",
    "#Step 8: Compare your t-table value from Step 7 (2.228) to your calculated t-value (-2.84). \n",
    "#The calculated t-value is greater than the table value at an alpha level of .05. \n",
    "#The p-value is less than the alpha level: p <.05. \n",
    "#We can reject the null hypothesis that there is no difference between means.\n",
    "\n",
    "#Note: You can ignore the minus sign when comparing the two t-values, as ± indicates the direction; \n",
    "#the p-value remains the same for both directions."
   ]
  },
  {
   "cell_type": "code",
   "execution_count": 45,
   "metadata": {},
   "outputs": [
    {
     "name": "stdout",
     "output_type": "stream",
     "text": [
      "t = -2.737328922288368\n",
      "p = 0.02092847795148222\n"
     ]
    }
   ],
   "source": [
    "## Cross Checking with the internal scipy function\n",
    "t2, p2 = stats.ttest_rel(a,b)\n",
    "print(\"t = \" + str(t2))\n",
    "print(\"p = \" + str(p2))"
   ]
  }
 ],
 "metadata": {
  "kernelspec": {
   "display_name": "Python 3",
   "language": "python",
   "name": "python3"
  },
  "language_info": {
   "codemirror_mode": {
    "name": "ipython",
    "version": 3
   },
   "file_extension": ".py",
   "mimetype": "text/x-python",
   "name": "python",
   "nbconvert_exporter": "python",
   "pygments_lexer": "ipython3",
   "version": "3.7.4"
  }
 },
 "nbformat": 4,
 "nbformat_minor": 2
}
